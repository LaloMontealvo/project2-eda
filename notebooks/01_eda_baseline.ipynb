{
 "cells": [
  {
   "cell_type": "code",
   "execution_count": 6,
   "id": "8e0631d2",
   "metadata": {},
   "outputs": [
    {
     "name": "stdout",
     "output_type": "stream",
     "text": [
      "demo: (70609, 9)\n",
      "web1: (343141, 5)\n",
      "web2: (412264, 5)\n",
      "exper: (70609, 2)\n"
     ]
    }
   ],
   "source": [
    "import pandas as pd\n",
    "\n",
    "BASE = \"https://raw.githubusercontent.com/LaloMontealvo/project2-eda/main/data/raw/\"\n",
    "\n",
    "demo  = pd.read_csv(BASE + \"df_final_demo.csv\")\n",
    "web1  = pd.read_csv(BASE + \"df_final_web_data_pt_1.csv\")\n",
    "web2  = pd.read_csv(BASE + \"df_final_web_data_pt_2.csv\")\n",
    "exper = pd.read_csv(BASE + \"df_final_experiment_clients.csv\")\n",
    "\n",
    "print(\"demo:\", demo.shape)\n",
    "print(\"web1:\", web1.shape)\n",
    "print(\"web2:\", web2.shape)\n",
    "print(\"exper:\", exper.shape)"
   ]
  },
  {
   "cell_type": "code",
   "execution_count": 7,
   "id": "ce291078",
   "metadata": {},
   "outputs": [
    {
     "name": "stdout",
     "output_type": "stream",
     "text": [
      "\n",
      "=== demo ===\n"
     ]
    },
    {
     "data": {
      "application/vnd.microsoft.datawrangler.viewer.v0+json": {
       "columns": [
        {
         "name": "index",
         "rawType": "int64",
         "type": "integer"
        },
        {
         "name": "client_id",
         "rawType": "int64",
         "type": "integer"
        },
        {
         "name": "clnt_tenure_yr",
         "rawType": "float64",
         "type": "float"
        },
        {
         "name": "clnt_tenure_mnth",
         "rawType": "float64",
         "type": "float"
        },
        {
         "name": "clnt_age",
         "rawType": "float64",
         "type": "float"
        },
        {
         "name": "gendr",
         "rawType": "object",
         "type": "string"
        },
        {
         "name": "num_accts",
         "rawType": "float64",
         "type": "float"
        },
        {
         "name": "bal",
         "rawType": "float64",
         "type": "float"
        },
        {
         "name": "calls_6_mnth",
         "rawType": "float64",
         "type": "float"
        },
        {
         "name": "logons_6_mnth",
         "rawType": "float64",
         "type": "float"
        }
       ],
       "ref": "ccab3d78-1c6e-42ac-8559-8db745e44f5b",
       "rows": [
        [
         "0",
         "836976",
         "6.0",
         "73.0",
         "60.5",
         "U",
         "2.0",
         "45105.3",
         "6.0",
         "9.0"
        ],
        [
         "1",
         "2304905",
         "7.0",
         "94.0",
         "58.0",
         "U",
         "2.0",
         "110860.3",
         "6.0",
         "9.0"
        ],
        [
         "2",
         "1439522",
         "5.0",
         "64.0",
         "32.0",
         "U",
         "2.0",
         "52467.78999999999",
         "6.0",
         "9.0"
        ]
       ],
       "shape": {
        "columns": 9,
        "rows": 3
       }
      },
      "text/html": [
       "<div>\n",
       "<style scoped>\n",
       "    .dataframe tbody tr th:only-of-type {\n",
       "        vertical-align: middle;\n",
       "    }\n",
       "\n",
       "    .dataframe tbody tr th {\n",
       "        vertical-align: top;\n",
       "    }\n",
       "\n",
       "    .dataframe thead th {\n",
       "        text-align: right;\n",
       "    }\n",
       "</style>\n",
       "<table border=\"1\" class=\"dataframe\">\n",
       "  <thead>\n",
       "    <tr style=\"text-align: right;\">\n",
       "      <th></th>\n",
       "      <th>client_id</th>\n",
       "      <th>clnt_tenure_yr</th>\n",
       "      <th>clnt_tenure_mnth</th>\n",
       "      <th>clnt_age</th>\n",
       "      <th>gendr</th>\n",
       "      <th>num_accts</th>\n",
       "      <th>bal</th>\n",
       "      <th>calls_6_mnth</th>\n",
       "      <th>logons_6_mnth</th>\n",
       "    </tr>\n",
       "  </thead>\n",
       "  <tbody>\n",
       "    <tr>\n",
       "      <th>0</th>\n",
       "      <td>836976</td>\n",
       "      <td>6.0</td>\n",
       "      <td>73.0</td>\n",
       "      <td>60.5</td>\n",
       "      <td>U</td>\n",
       "      <td>2.0</td>\n",
       "      <td>45105.30</td>\n",
       "      <td>6.0</td>\n",
       "      <td>9.0</td>\n",
       "    </tr>\n",
       "    <tr>\n",
       "      <th>1</th>\n",
       "      <td>2304905</td>\n",
       "      <td>7.0</td>\n",
       "      <td>94.0</td>\n",
       "      <td>58.0</td>\n",
       "      <td>U</td>\n",
       "      <td>2.0</td>\n",
       "      <td>110860.30</td>\n",
       "      <td>6.0</td>\n",
       "      <td>9.0</td>\n",
       "    </tr>\n",
       "    <tr>\n",
       "      <th>2</th>\n",
       "      <td>1439522</td>\n",
       "      <td>5.0</td>\n",
       "      <td>64.0</td>\n",
       "      <td>32.0</td>\n",
       "      <td>U</td>\n",
       "      <td>2.0</td>\n",
       "      <td>52467.79</td>\n",
       "      <td>6.0</td>\n",
       "      <td>9.0</td>\n",
       "    </tr>\n",
       "  </tbody>\n",
       "</table>\n",
       "</div>"
      ],
      "text/plain": [
       "   client_id  clnt_tenure_yr  clnt_tenure_mnth  clnt_age gendr  num_accts  \\\n",
       "0     836976             6.0              73.0      60.5     U        2.0   \n",
       "1    2304905             7.0              94.0      58.0     U        2.0   \n",
       "2    1439522             5.0              64.0      32.0     U        2.0   \n",
       "\n",
       "         bal  calls_6_mnth  logons_6_mnth  \n",
       "0   45105.30           6.0            9.0  \n",
       "1  110860.30           6.0            9.0  \n",
       "2   52467.79           6.0            9.0  "
      ]
     },
     "metadata": {},
     "output_type": "display_data"
    },
    {
     "data": {
      "application/vnd.microsoft.datawrangler.viewer.v0+json": {
       "columns": [
        {
         "name": "index",
         "rawType": "object",
         "type": "string"
        },
        {
         "name": "dtype",
         "rawType": "object",
         "type": "unknown"
        },
        {
         "name": "non_null",
         "rawType": "int64",
         "type": "integer"
        },
        {
         "name": "nulls",
         "rawType": "int64",
         "type": "integer"
        },
        {
         "name": "null_pct",
         "rawType": "float64",
         "type": "float"
        },
        {
         "name": "n_unique",
         "rawType": "int64",
         "type": "integer"
        }
       ],
       "ref": "37e7722f-7005-4e77-9295-2f336abd670d",
       "rows": [
        [
         "client_id",
         "int64",
         "70609",
         "0",
         "0.0",
         "70609"
        ],
        [
         "clnt_tenure_yr",
         "float64",
         "70595",
         "14",
         "0.02",
         "54"
        ],
        [
         "clnt_tenure_mnth",
         "float64",
         "70595",
         "14",
         "0.02",
         "482"
        ],
        [
         "clnt_age",
         "float64",
         "70594",
         "15",
         "0.02",
         "165"
        ],
        [
         "gendr",
         "object",
         "70595",
         "14",
         "0.02",
         "4"
        ],
        [
         "num_accts",
         "float64",
         "70595",
         "14",
         "0.02",
         "8"
        ],
        [
         "bal",
         "float64",
         "70595",
         "14",
         "0.02",
         "70328"
        ],
        [
         "calls_6_mnth",
         "float64",
         "70595",
         "14",
         "0.02",
         "8"
        ],
        [
         "logons_6_mnth",
         "float64",
         "70595",
         "14",
         "0.02",
         "9"
        ]
       ],
       "shape": {
        "columns": 5,
        "rows": 9
       }
      },
      "text/html": [
       "<div>\n",
       "<style scoped>\n",
       "    .dataframe tbody tr th:only-of-type {\n",
       "        vertical-align: middle;\n",
       "    }\n",
       "\n",
       "    .dataframe tbody tr th {\n",
       "        vertical-align: top;\n",
       "    }\n",
       "\n",
       "    .dataframe thead th {\n",
       "        text-align: right;\n",
       "    }\n",
       "</style>\n",
       "<table border=\"1\" class=\"dataframe\">\n",
       "  <thead>\n",
       "    <tr style=\"text-align: right;\">\n",
       "      <th></th>\n",
       "      <th>dtype</th>\n",
       "      <th>non_null</th>\n",
       "      <th>nulls</th>\n",
       "      <th>null_pct</th>\n",
       "      <th>n_unique</th>\n",
       "    </tr>\n",
       "  </thead>\n",
       "  <tbody>\n",
       "    <tr>\n",
       "      <th>client_id</th>\n",
       "      <td>int64</td>\n",
       "      <td>70609</td>\n",
       "      <td>0</td>\n",
       "      <td>0.00</td>\n",
       "      <td>70609</td>\n",
       "    </tr>\n",
       "    <tr>\n",
       "      <th>clnt_tenure_yr</th>\n",
       "      <td>float64</td>\n",
       "      <td>70595</td>\n",
       "      <td>14</td>\n",
       "      <td>0.02</td>\n",
       "      <td>54</td>\n",
       "    </tr>\n",
       "    <tr>\n",
       "      <th>clnt_tenure_mnth</th>\n",
       "      <td>float64</td>\n",
       "      <td>70595</td>\n",
       "      <td>14</td>\n",
       "      <td>0.02</td>\n",
       "      <td>482</td>\n",
       "    </tr>\n",
       "    <tr>\n",
       "      <th>clnt_age</th>\n",
       "      <td>float64</td>\n",
       "      <td>70594</td>\n",
       "      <td>15</td>\n",
       "      <td>0.02</td>\n",
       "      <td>165</td>\n",
       "    </tr>\n",
       "    <tr>\n",
       "      <th>gendr</th>\n",
       "      <td>object</td>\n",
       "      <td>70595</td>\n",
       "      <td>14</td>\n",
       "      <td>0.02</td>\n",
       "      <td>4</td>\n",
       "    </tr>\n",
       "    <tr>\n",
       "      <th>num_accts</th>\n",
       "      <td>float64</td>\n",
       "      <td>70595</td>\n",
       "      <td>14</td>\n",
       "      <td>0.02</td>\n",
       "      <td>8</td>\n",
       "    </tr>\n",
       "    <tr>\n",
       "      <th>bal</th>\n",
       "      <td>float64</td>\n",
       "      <td>70595</td>\n",
       "      <td>14</td>\n",
       "      <td>0.02</td>\n",
       "      <td>70328</td>\n",
       "    </tr>\n",
       "    <tr>\n",
       "      <th>calls_6_mnth</th>\n",
       "      <td>float64</td>\n",
       "      <td>70595</td>\n",
       "      <td>14</td>\n",
       "      <td>0.02</td>\n",
       "      <td>8</td>\n",
       "    </tr>\n",
       "    <tr>\n",
       "      <th>logons_6_mnth</th>\n",
       "      <td>float64</td>\n",
       "      <td>70595</td>\n",
       "      <td>14</td>\n",
       "      <td>0.02</td>\n",
       "      <td>9</td>\n",
       "    </tr>\n",
       "  </tbody>\n",
       "</table>\n",
       "</div>"
      ],
      "text/plain": [
       "                    dtype  non_null  nulls  null_pct  n_unique\n",
       "client_id           int64     70609      0      0.00     70609\n",
       "clnt_tenure_yr    float64     70595     14      0.02        54\n",
       "clnt_tenure_mnth  float64     70595     14      0.02       482\n",
       "clnt_age          float64     70594     15      0.02       165\n",
       "gendr              object     70595     14      0.02         4\n",
       "num_accts         float64     70595     14      0.02         8\n",
       "bal               float64     70595     14      0.02     70328\n",
       "calls_6_mnth      float64     70595     14      0.02         8\n",
       "logons_6_mnth     float64     70595     14      0.02         9"
      ]
     },
     "metadata": {},
     "output_type": "display_data"
    },
    {
     "name": "stdout",
     "output_type": "stream",
     "text": [
      "\n",
      "=== web1 ===\n"
     ]
    },
    {
     "data": {
      "application/vnd.microsoft.datawrangler.viewer.v0+json": {
       "columns": [
        {
         "name": "index",
         "rawType": "int64",
         "type": "integer"
        },
        {
         "name": "client_id",
         "rawType": "int64",
         "type": "integer"
        },
        {
         "name": "visitor_id",
         "rawType": "object",
         "type": "string"
        },
        {
         "name": "visit_id",
         "rawType": "object",
         "type": "string"
        },
        {
         "name": "process_step",
         "rawType": "object",
         "type": "string"
        },
        {
         "name": "date_time",
         "rawType": "object",
         "type": "string"
        }
       ],
       "ref": "57272713-44fe-4331-b040-25840682648e",
       "rows": [
        [
         "0",
         "9988021",
         "580560515_7732621733",
         "781255054_21935453173_531117",
         "step_3",
         "2017-04-17 15:27:07"
        ],
        [
         "1",
         "9988021",
         "580560515_7732621733",
         "781255054_21935453173_531117",
         "step_2",
         "2017-04-17 15:26:51"
        ],
        [
         "2",
         "9988021",
         "580560515_7732621733",
         "781255054_21935453173_531117",
         "step_3",
         "2017-04-17 15:19:22"
        ]
       ],
       "shape": {
        "columns": 5,
        "rows": 3
       }
      },
      "text/html": [
       "<div>\n",
       "<style scoped>\n",
       "    .dataframe tbody tr th:only-of-type {\n",
       "        vertical-align: middle;\n",
       "    }\n",
       "\n",
       "    .dataframe tbody tr th {\n",
       "        vertical-align: top;\n",
       "    }\n",
       "\n",
       "    .dataframe thead th {\n",
       "        text-align: right;\n",
       "    }\n",
       "</style>\n",
       "<table border=\"1\" class=\"dataframe\">\n",
       "  <thead>\n",
       "    <tr style=\"text-align: right;\">\n",
       "      <th></th>\n",
       "      <th>client_id</th>\n",
       "      <th>visitor_id</th>\n",
       "      <th>visit_id</th>\n",
       "      <th>process_step</th>\n",
       "      <th>date_time</th>\n",
       "    </tr>\n",
       "  </thead>\n",
       "  <tbody>\n",
       "    <tr>\n",
       "      <th>0</th>\n",
       "      <td>9988021</td>\n",
       "      <td>580560515_7732621733</td>\n",
       "      <td>781255054_21935453173_531117</td>\n",
       "      <td>step_3</td>\n",
       "      <td>2017-04-17 15:27:07</td>\n",
       "    </tr>\n",
       "    <tr>\n",
       "      <th>1</th>\n",
       "      <td>9988021</td>\n",
       "      <td>580560515_7732621733</td>\n",
       "      <td>781255054_21935453173_531117</td>\n",
       "      <td>step_2</td>\n",
       "      <td>2017-04-17 15:26:51</td>\n",
       "    </tr>\n",
       "    <tr>\n",
       "      <th>2</th>\n",
       "      <td>9988021</td>\n",
       "      <td>580560515_7732621733</td>\n",
       "      <td>781255054_21935453173_531117</td>\n",
       "      <td>step_3</td>\n",
       "      <td>2017-04-17 15:19:22</td>\n",
       "    </tr>\n",
       "  </tbody>\n",
       "</table>\n",
       "</div>"
      ],
      "text/plain": [
       "   client_id            visitor_id                      visit_id process_step  \\\n",
       "0    9988021  580560515_7732621733  781255054_21935453173_531117       step_3   \n",
       "1    9988021  580560515_7732621733  781255054_21935453173_531117       step_2   \n",
       "2    9988021  580560515_7732621733  781255054_21935453173_531117       step_3   \n",
       "\n",
       "             date_time  \n",
       "0  2017-04-17 15:27:07  \n",
       "1  2017-04-17 15:26:51  \n",
       "2  2017-04-17 15:19:22  "
      ]
     },
     "metadata": {},
     "output_type": "display_data"
    },
    {
     "data": {
      "application/vnd.microsoft.datawrangler.viewer.v0+json": {
       "columns": [
        {
         "name": "index",
         "rawType": "object",
         "type": "string"
        },
        {
         "name": "dtype",
         "rawType": "object",
         "type": "unknown"
        },
        {
         "name": "non_null",
         "rawType": "int64",
         "type": "integer"
        },
        {
         "name": "nulls",
         "rawType": "int64",
         "type": "integer"
        },
        {
         "name": "null_pct",
         "rawType": "float64",
         "type": "float"
        },
        {
         "name": "n_unique",
         "rawType": "int64",
         "type": "integer"
        }
       ],
       "ref": "ec3d88a9-5436-4d3b-a646-0e91d35ba1a2",
       "rows": [
        [
         "client_id",
         "int64",
         "343141",
         "0",
         "0.0",
         "58391"
        ],
        [
         "visitor_id",
         "object",
         "343141",
         "0",
         "0.0",
         "62936"
        ],
        [
         "visit_id",
         "object",
         "343141",
         "0",
         "0.0",
         "75256"
        ],
        [
         "process_step",
         "object",
         "343141",
         "0",
         "0.0",
         "5"
        ],
        [
         "date_time",
         "object",
         "343141",
         "0",
         "0.0",
         "282666"
        ]
       ],
       "shape": {
        "columns": 5,
        "rows": 5
       }
      },
      "text/html": [
       "<div>\n",
       "<style scoped>\n",
       "    .dataframe tbody tr th:only-of-type {\n",
       "        vertical-align: middle;\n",
       "    }\n",
       "\n",
       "    .dataframe tbody tr th {\n",
       "        vertical-align: top;\n",
       "    }\n",
       "\n",
       "    .dataframe thead th {\n",
       "        text-align: right;\n",
       "    }\n",
       "</style>\n",
       "<table border=\"1\" class=\"dataframe\">\n",
       "  <thead>\n",
       "    <tr style=\"text-align: right;\">\n",
       "      <th></th>\n",
       "      <th>dtype</th>\n",
       "      <th>non_null</th>\n",
       "      <th>nulls</th>\n",
       "      <th>null_pct</th>\n",
       "      <th>n_unique</th>\n",
       "    </tr>\n",
       "  </thead>\n",
       "  <tbody>\n",
       "    <tr>\n",
       "      <th>client_id</th>\n",
       "      <td>int64</td>\n",
       "      <td>343141</td>\n",
       "      <td>0</td>\n",
       "      <td>0.0</td>\n",
       "      <td>58391</td>\n",
       "    </tr>\n",
       "    <tr>\n",
       "      <th>visitor_id</th>\n",
       "      <td>object</td>\n",
       "      <td>343141</td>\n",
       "      <td>0</td>\n",
       "      <td>0.0</td>\n",
       "      <td>62936</td>\n",
       "    </tr>\n",
       "    <tr>\n",
       "      <th>visit_id</th>\n",
       "      <td>object</td>\n",
       "      <td>343141</td>\n",
       "      <td>0</td>\n",
       "      <td>0.0</td>\n",
       "      <td>75256</td>\n",
       "    </tr>\n",
       "    <tr>\n",
       "      <th>process_step</th>\n",
       "      <td>object</td>\n",
       "      <td>343141</td>\n",
       "      <td>0</td>\n",
       "      <td>0.0</td>\n",
       "      <td>5</td>\n",
       "    </tr>\n",
       "    <tr>\n",
       "      <th>date_time</th>\n",
       "      <td>object</td>\n",
       "      <td>343141</td>\n",
       "      <td>0</td>\n",
       "      <td>0.0</td>\n",
       "      <td>282666</td>\n",
       "    </tr>\n",
       "  </tbody>\n",
       "</table>\n",
       "</div>"
      ],
      "text/plain": [
       "               dtype  non_null  nulls  null_pct  n_unique\n",
       "client_id      int64    343141      0       0.0     58391\n",
       "visitor_id    object    343141      0       0.0     62936\n",
       "visit_id      object    343141      0       0.0     75256\n",
       "process_step  object    343141      0       0.0         5\n",
       "date_time     object    343141      0       0.0    282666"
      ]
     },
     "metadata": {},
     "output_type": "display_data"
    },
    {
     "name": "stdout",
     "output_type": "stream",
     "text": [
      "\n",
      "=== web2 ===\n"
     ]
    },
    {
     "data": {
      "application/vnd.microsoft.datawrangler.viewer.v0+json": {
       "columns": [
        {
         "name": "index",
         "rawType": "int64",
         "type": "integer"
        },
        {
         "name": "client_id",
         "rawType": "int64",
         "type": "integer"
        },
        {
         "name": "visitor_id",
         "rawType": "object",
         "type": "string"
        },
        {
         "name": "visit_id",
         "rawType": "object",
         "type": "string"
        },
        {
         "name": "process_step",
         "rawType": "object",
         "type": "string"
        },
        {
         "name": "date_time",
         "rawType": "object",
         "type": "string"
        }
       ],
       "ref": "f5645d45-9be9-4753-8cf9-60878f7e15e2",
       "rows": [
        [
         "0",
         "763412",
         "601952081_10457207388",
         "397475557_40440946728_419634",
         "confirm",
         "2017-06-06 08:56:00"
        ],
        [
         "1",
         "6019349",
         "442094451_91531546617",
         "154620534_35331068705_522317",
         "confirm",
         "2017-06-01 11:59:27"
        ],
        [
         "2",
         "6019349",
         "442094451_91531546617",
         "154620534_35331068705_522317",
         "step_3",
         "2017-06-01 11:58:48"
        ]
       ],
       "shape": {
        "columns": 5,
        "rows": 3
       }
      },
      "text/html": [
       "<div>\n",
       "<style scoped>\n",
       "    .dataframe tbody tr th:only-of-type {\n",
       "        vertical-align: middle;\n",
       "    }\n",
       "\n",
       "    .dataframe tbody tr th {\n",
       "        vertical-align: top;\n",
       "    }\n",
       "\n",
       "    .dataframe thead th {\n",
       "        text-align: right;\n",
       "    }\n",
       "</style>\n",
       "<table border=\"1\" class=\"dataframe\">\n",
       "  <thead>\n",
       "    <tr style=\"text-align: right;\">\n",
       "      <th></th>\n",
       "      <th>client_id</th>\n",
       "      <th>visitor_id</th>\n",
       "      <th>visit_id</th>\n",
       "      <th>process_step</th>\n",
       "      <th>date_time</th>\n",
       "    </tr>\n",
       "  </thead>\n",
       "  <tbody>\n",
       "    <tr>\n",
       "      <th>0</th>\n",
       "      <td>763412</td>\n",
       "      <td>601952081_10457207388</td>\n",
       "      <td>397475557_40440946728_419634</td>\n",
       "      <td>confirm</td>\n",
       "      <td>2017-06-06 08:56:00</td>\n",
       "    </tr>\n",
       "    <tr>\n",
       "      <th>1</th>\n",
       "      <td>6019349</td>\n",
       "      <td>442094451_91531546617</td>\n",
       "      <td>154620534_35331068705_522317</td>\n",
       "      <td>confirm</td>\n",
       "      <td>2017-06-01 11:59:27</td>\n",
       "    </tr>\n",
       "    <tr>\n",
       "      <th>2</th>\n",
       "      <td>6019349</td>\n",
       "      <td>442094451_91531546617</td>\n",
       "      <td>154620534_35331068705_522317</td>\n",
       "      <td>step_3</td>\n",
       "      <td>2017-06-01 11:58:48</td>\n",
       "    </tr>\n",
       "  </tbody>\n",
       "</table>\n",
       "</div>"
      ],
      "text/plain": [
       "   client_id             visitor_id                      visit_id  \\\n",
       "0     763412  601952081_10457207388  397475557_40440946728_419634   \n",
       "1    6019349  442094451_91531546617  154620534_35331068705_522317   \n",
       "2    6019349  442094451_91531546617  154620534_35331068705_522317   \n",
       "\n",
       "  process_step            date_time  \n",
       "0      confirm  2017-06-06 08:56:00  \n",
       "1      confirm  2017-06-01 11:59:27  \n",
       "2       step_3  2017-06-01 11:58:48  "
      ]
     },
     "metadata": {},
     "output_type": "display_data"
    },
    {
     "data": {
      "application/vnd.microsoft.datawrangler.viewer.v0+json": {
       "columns": [
        {
         "name": "index",
         "rawType": "object",
         "type": "string"
        },
        {
         "name": "dtype",
         "rawType": "object",
         "type": "unknown"
        },
        {
         "name": "non_null",
         "rawType": "int64",
         "type": "integer"
        },
        {
         "name": "nulls",
         "rawType": "int64",
         "type": "integer"
        },
        {
         "name": "null_pct",
         "rawType": "float64",
         "type": "float"
        },
        {
         "name": "n_unique",
         "rawType": "int64",
         "type": "integer"
        }
       ],
       "ref": "1dee20b3-6867-4314-8763-5933794d9d50",
       "rows": [
        [
         "client_id",
         "int64",
         "412264",
         "0",
         "0.0",
         "67430"
        ],
        [
         "visitor_id",
         "object",
         "412264",
         "0",
         "0.0",
         "71042"
        ],
        [
         "visit_id",
         "object",
         "412264",
         "0",
         "0.0",
         "82841"
        ],
        [
         "process_step",
         "object",
         "412264",
         "0",
         "0.0",
         "5"
        ],
        [
         "date_time",
         "object",
         "412264",
         "0",
         "0.0",
         "346697"
        ]
       ],
       "shape": {
        "columns": 5,
        "rows": 5
       }
      },
      "text/html": [
       "<div>\n",
       "<style scoped>\n",
       "    .dataframe tbody tr th:only-of-type {\n",
       "        vertical-align: middle;\n",
       "    }\n",
       "\n",
       "    .dataframe tbody tr th {\n",
       "        vertical-align: top;\n",
       "    }\n",
       "\n",
       "    .dataframe thead th {\n",
       "        text-align: right;\n",
       "    }\n",
       "</style>\n",
       "<table border=\"1\" class=\"dataframe\">\n",
       "  <thead>\n",
       "    <tr style=\"text-align: right;\">\n",
       "      <th></th>\n",
       "      <th>dtype</th>\n",
       "      <th>non_null</th>\n",
       "      <th>nulls</th>\n",
       "      <th>null_pct</th>\n",
       "      <th>n_unique</th>\n",
       "    </tr>\n",
       "  </thead>\n",
       "  <tbody>\n",
       "    <tr>\n",
       "      <th>client_id</th>\n",
       "      <td>int64</td>\n",
       "      <td>412264</td>\n",
       "      <td>0</td>\n",
       "      <td>0.0</td>\n",
       "      <td>67430</td>\n",
       "    </tr>\n",
       "    <tr>\n",
       "      <th>visitor_id</th>\n",
       "      <td>object</td>\n",
       "      <td>412264</td>\n",
       "      <td>0</td>\n",
       "      <td>0.0</td>\n",
       "      <td>71042</td>\n",
       "    </tr>\n",
       "    <tr>\n",
       "      <th>visit_id</th>\n",
       "      <td>object</td>\n",
       "      <td>412264</td>\n",
       "      <td>0</td>\n",
       "      <td>0.0</td>\n",
       "      <td>82841</td>\n",
       "    </tr>\n",
       "    <tr>\n",
       "      <th>process_step</th>\n",
       "      <td>object</td>\n",
       "      <td>412264</td>\n",
       "      <td>0</td>\n",
       "      <td>0.0</td>\n",
       "      <td>5</td>\n",
       "    </tr>\n",
       "    <tr>\n",
       "      <th>date_time</th>\n",
       "      <td>object</td>\n",
       "      <td>412264</td>\n",
       "      <td>0</td>\n",
       "      <td>0.0</td>\n",
       "      <td>346697</td>\n",
       "    </tr>\n",
       "  </tbody>\n",
       "</table>\n",
       "</div>"
      ],
      "text/plain": [
       "               dtype  non_null  nulls  null_pct  n_unique\n",
       "client_id      int64    412264      0       0.0     67430\n",
       "visitor_id    object    412264      0       0.0     71042\n",
       "visit_id      object    412264      0       0.0     82841\n",
       "process_step  object    412264      0       0.0         5\n",
       "date_time     object    412264      0       0.0    346697"
      ]
     },
     "metadata": {},
     "output_type": "display_data"
    },
    {
     "name": "stdout",
     "output_type": "stream",
     "text": [
      "\n",
      "=== exper ===\n"
     ]
    },
    {
     "data": {
      "application/vnd.microsoft.datawrangler.viewer.v0+json": {
       "columns": [
        {
         "name": "index",
         "rawType": "int64",
         "type": "integer"
        },
        {
         "name": "client_id",
         "rawType": "int64",
         "type": "integer"
        },
        {
         "name": "Variation",
         "rawType": "object",
         "type": "string"
        }
       ],
       "ref": "a79a5c72-5429-4b88-899d-aa3eb6f0ea30",
       "rows": [
        [
         "0",
         "9988021",
         "Test"
        ],
        [
         "1",
         "8320017",
         "Test"
        ],
        [
         "2",
         "4033851",
         "Control"
        ]
       ],
       "shape": {
        "columns": 2,
        "rows": 3
       }
      },
      "text/html": [
       "<div>\n",
       "<style scoped>\n",
       "    .dataframe tbody tr th:only-of-type {\n",
       "        vertical-align: middle;\n",
       "    }\n",
       "\n",
       "    .dataframe tbody tr th {\n",
       "        vertical-align: top;\n",
       "    }\n",
       "\n",
       "    .dataframe thead th {\n",
       "        text-align: right;\n",
       "    }\n",
       "</style>\n",
       "<table border=\"1\" class=\"dataframe\">\n",
       "  <thead>\n",
       "    <tr style=\"text-align: right;\">\n",
       "      <th></th>\n",
       "      <th>client_id</th>\n",
       "      <th>Variation</th>\n",
       "    </tr>\n",
       "  </thead>\n",
       "  <tbody>\n",
       "    <tr>\n",
       "      <th>0</th>\n",
       "      <td>9988021</td>\n",
       "      <td>Test</td>\n",
       "    </tr>\n",
       "    <tr>\n",
       "      <th>1</th>\n",
       "      <td>8320017</td>\n",
       "      <td>Test</td>\n",
       "    </tr>\n",
       "    <tr>\n",
       "      <th>2</th>\n",
       "      <td>4033851</td>\n",
       "      <td>Control</td>\n",
       "    </tr>\n",
       "  </tbody>\n",
       "</table>\n",
       "</div>"
      ],
      "text/plain": [
       "   client_id Variation\n",
       "0    9988021      Test\n",
       "1    8320017      Test\n",
       "2    4033851   Control"
      ]
     },
     "metadata": {},
     "output_type": "display_data"
    },
    {
     "data": {
      "application/vnd.microsoft.datawrangler.viewer.v0+json": {
       "columns": [
        {
         "name": "index",
         "rawType": "object",
         "type": "string"
        },
        {
         "name": "dtype",
         "rawType": "object",
         "type": "unknown"
        },
        {
         "name": "non_null",
         "rawType": "int64",
         "type": "integer"
        },
        {
         "name": "nulls",
         "rawType": "int64",
         "type": "integer"
        },
        {
         "name": "null_pct",
         "rawType": "float64",
         "type": "float"
        },
        {
         "name": "n_unique",
         "rawType": "int64",
         "type": "integer"
        }
       ],
       "ref": "7e95c78b-4d1a-4b28-830d-27e779005598",
       "rows": [
        [
         "client_id",
         "int64",
         "70609",
         "0",
         "0.0",
         "70609"
        ],
        [
         "Variation",
         "object",
         "50500",
         "20109",
         "28.48",
         "2"
        ]
       ],
       "shape": {
        "columns": 5,
        "rows": 2
       }
      },
      "text/html": [
       "<div>\n",
       "<style scoped>\n",
       "    .dataframe tbody tr th:only-of-type {\n",
       "        vertical-align: middle;\n",
       "    }\n",
       "\n",
       "    .dataframe tbody tr th {\n",
       "        vertical-align: top;\n",
       "    }\n",
       "\n",
       "    .dataframe thead th {\n",
       "        text-align: right;\n",
       "    }\n",
       "</style>\n",
       "<table border=\"1\" class=\"dataframe\">\n",
       "  <thead>\n",
       "    <tr style=\"text-align: right;\">\n",
       "      <th></th>\n",
       "      <th>dtype</th>\n",
       "      <th>non_null</th>\n",
       "      <th>nulls</th>\n",
       "      <th>null_pct</th>\n",
       "      <th>n_unique</th>\n",
       "    </tr>\n",
       "  </thead>\n",
       "  <tbody>\n",
       "    <tr>\n",
       "      <th>client_id</th>\n",
       "      <td>int64</td>\n",
       "      <td>70609</td>\n",
       "      <td>0</td>\n",
       "      <td>0.00</td>\n",
       "      <td>70609</td>\n",
       "    </tr>\n",
       "    <tr>\n",
       "      <th>Variation</th>\n",
       "      <td>object</td>\n",
       "      <td>50500</td>\n",
       "      <td>20109</td>\n",
       "      <td>28.48</td>\n",
       "      <td>2</td>\n",
       "    </tr>\n",
       "  </tbody>\n",
       "</table>\n",
       "</div>"
      ],
      "text/plain": [
       "            dtype  non_null  nulls  null_pct  n_unique\n",
       "client_id   int64     70609      0      0.00     70609\n",
       "Variation  object     50500  20109     28.48         2"
      ]
     },
     "metadata": {},
     "output_type": "display_data"
    }
   ],
   "source": [
    "from IPython.display import display\n",
    "\n",
    "def profile(df, name):\n",
    "    print(f\"\\n=== {name} ===\")\n",
    "    display(df.head(3))\n",
    "    summary = (\n",
    "        df.dtypes.to_frame('dtype')\n",
    "          .assign(\n",
    "              non_null=lambda _: df.notna().sum(),\n",
    "              nulls=lambda _: df.isna().sum(),\n",
    "              null_pct=lambda _: (df.isna().mean()*100).round(2),\n",
    "              n_unique=lambda _: df.nunique(dropna=True)\n",
    "          )\n",
    "    )\n",
    "    display(summary)\n",
    "\n",
    "for name, df in [('demo', demo), ('web1', web1), ('web2', web2), ('exper', exper)]:\n",
    "    profile(df, name)"
   ]
  }
 ],
 "metadata": {
  "kernelspec": {
   "display_name": "data-analyst",
   "language": "python",
   "name": "python3"
  },
  "language_info": {
   "codemirror_mode": {
    "name": "ipython",
    "version": 3
   },
   "file_extension": ".py",
   "mimetype": "text/x-python",
   "name": "python",
   "nbconvert_exporter": "python",
   "pygments_lexer": "ipython3",
   "version": "3.13.5"
  }
 },
 "nbformat": 4,
 "nbformat_minor": 5
}
